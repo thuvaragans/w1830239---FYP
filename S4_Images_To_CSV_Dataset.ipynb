{
 "cells": [
  {
   "cell_type": "code",
   "execution_count": null,
   "metadata": {
    "collapsed": true
   },
   "outputs": [],
   "source": [
    "import os\n",
    "data_dir=os.path.expanduser('Final_Images')"
   ]
  },
  {
   "cell_type": "code",
   "execution_count": null,
   "outputs": [],
   "source": [
    "files = []\n",
    "labels=[]\n",
    "# r=root, d=directories, f = files\n",
    "for r, d, f in os.walk(data_dir):\n",
    "    for file in f:\n",
    "        if '.jpg' in file:\n",
    "            label=r.split('\\\\')[-1]\n",
    "            labels.append(label)\n",
    "            files.append(os.path.join(r,file))\n",
    "\n",
    "for f in files:\n",
    "    print(f)"
   ],
   "metadata": {
    "collapsed": false,
    "pycharm": {
     "name": "#%%\n"
    }
   }
  },
  {
   "cell_type": "code",
   "execution_count": null,
   "outputs": [],
   "source": [
    "import numpy as np\n",
    "import pywt\n",
    "import cv2\n",
    "from skimage.feature import greycomatrix, greycoprops\n",
    "import csv"
   ],
   "metadata": {
    "collapsed": false,
    "pycharm": {
     "name": "#%%\n"
    }
   }
  },
  {
   "cell_type": "code",
   "execution_count": null,
   "outputs": [],
   "source": [
    "with open('dataset.csv', \"a+\", newline=\"\") as wr:\n",
    "    writer = csv.writer(wr)\n",
    "    i=0\n",
    "    for f in files:\n",
    "        label=f.split('\\\\')[-1]\n",
    "        img=cv2.imread(f)\n",
    "        coeffs2 = pywt.dwt2(img, 'db2')\n",
    "        LL, (LH, HL, HH) = coeffs2\n",
    "        g=[]\n",
    "        con=[]\n",
    "        enr=[]\n",
    "        dis=[]\n",
    "        hom=[]\n",
    "        g.append(greycomatrix(np.uint8(LL[:,:,0]), [1], [0], levels=256,normed=True,symmetric=True))\n",
    "        g.append(greycomatrix(np.uint8(LL[:,:,1]), [1], [0], levels=256,normed=True,symmetric=True))\n",
    "        g.append(greycomatrix(np.uint8(LL[:,:,2]), [1], [0], levels=256,normed=True,symmetric=True))\n",
    "        g.append(greycomatrix(np.uint8(LH[:,:,0]), [1], [0], levels=256,normed=True,symmetric=True))\n",
    "        g.append(greycomatrix(np.uint8(LH[:,:,1]), [1], [0], levels=256,normed=True,symmetric=True))\n",
    "        g.append(greycomatrix(np.uint8(LH[:,:,2]), [1], [0], levels=256,normed=True,symmetric=True))\n",
    "        g.append(greycomatrix(np.uint8(HL[:,:,0]), [1], [0], levels=256,normed=True,symmetric=True))\n",
    "        g.append(greycomatrix(np.uint8(HL[:,:,1]), [1], [0], levels=256,normed=True,symmetric=True))\n",
    "        g.append(greycomatrix(np.uint8(HL[:,:,2]), [1], [0], levels=256,normed=True,symmetric=True))\n",
    "        g.append(greycomatrix(np.uint8(HH[:,:,0]), [1], [0], levels=256,normed=True,symmetric=True))\n",
    "        g.append(greycomatrix(np.uint8(HH[:,:,1]), [1], [0], levels=256,normed=True,symmetric=True))\n",
    "        g.append(greycomatrix(np.uint8(HH[:,:,2]), [1], [0], levels=256,normed=True,symmetric=True))\n",
    "        for t in range(0,len(g)):\n",
    "            con.append(greycoprops(np.array(g[t]), 'contrast'))\n",
    "            enr.append(greycoprops(np.array(g[t]), 'energy'))\n",
    "            dis.append(greycoprops(np.array(g[t]), 'dissimilarity'))\n",
    "            hom.append(greycoprops(np.array(g[t]), 'homogeneity'))\n",
    "        con_features=np.reshape(np.array(con).ravel(),(1,len(np.array(con).ravel())))\n",
    "        enr_features=np.reshape(np.array(enr).ravel(),(1,len(np.array(enr).ravel())))\n",
    "        dis_features=np.reshape(np.array(dis).ravel(),(1,len(np.array(dis).ravel())))\n",
    "        hom_features=np.reshape(np.array(hom).ravel(),(1,len(np.array(hom).ravel())))\n",
    "        features=np.concatenate((con_features,enr_features,dis_features,hom_features),axis=1);\n",
    "        ff=features[0].tolist()\n",
    "        writer.writerow(ff+[labels[i]])\n",
    "        i+=1\n",
    "    wr.close()"
   ],
   "metadata": {
    "collapsed": false,
    "pycharm": {
     "name": "#%%\n"
    }
   }
  }
 ],
 "metadata": {
  "kernelspec": {
   "display_name": "Python 3",
   "language": "python",
   "name": "python3"
  },
  "language_info": {
   "codemirror_mode": {
    "name": "ipython",
    "version": 2
   },
   "file_extension": ".py",
   "mimetype": "text/x-python",
   "name": "python",
   "nbconvert_exporter": "python",
   "pygments_lexer": "ipython2",
   "version": "2.7.6"
  }
 },
 "nbformat": 4,
 "nbformat_minor": 0
}