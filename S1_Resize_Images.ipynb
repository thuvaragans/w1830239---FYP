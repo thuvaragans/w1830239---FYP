{
 "cells": [
  {
   "cell_type": "code",
   "execution_count": 193,
   "metadata": {
    "collapsed": true
   },
   "outputs": [],
   "source": [
    "### For resizing high resolution images.\n",
    "import cv2"
   ]
  },
  {
   "cell_type": "code",
   "execution_count": 194,
   "outputs": [
    {
     "name": "stdout",
     "output_type": "stream",
     "text": [
      "Images Resized Successfully.\n"
     ]
    }
   ],
   "source": [
    "# Looping through all the images to be resized.\n",
    "# Re-run the code for the necessary classes.\n",
    "\n",
    "for i in range(1,51):\n",
    "    n = str(i)\n",
    "    img = cv2.imread('SL_Currency_Images/5000/' + n + '.jpg')\n",
    "    resize = cv2.resize(img, (1028, 1028), interpolation=cv2.INTER_AREA)\n",
    "    cv2.imwrite(\"Resized_Images/5000/\" + n + \".jpg\", resize)\n",
    "\n",
    "print(\"Images Resized Successfully.\")"
   ],
   "metadata": {
    "collapsed": false,
    "pycharm": {
     "name": "#%%\n"
    }
   }
  }
 ],
 "metadata": {
  "kernelspec": {
   "display_name": "Python 3",
   "language": "python",
   "name": "python3"
  },
  "language_info": {
   "codemirror_mode": {
    "name": "ipython",
    "version": 2
   },
   "file_extension": ".py",
   "mimetype": "text/x-python",
   "name": "python",
   "nbconvert_exporter": "python",
   "pygments_lexer": "ipython2",
   "version": "2.7.6"
  }
 },
 "nbformat": 4,
 "nbformat_minor": 0
}