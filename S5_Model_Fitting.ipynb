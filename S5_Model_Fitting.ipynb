{
 "cells": [
  {
   "cell_type": "code",
   "execution_count": 20,
   "metadata": {
    "collapsed": true,
    "pycharm": {
     "name": "#%%\n"
    }
   },
   "outputs": [
    {
     "data": {
      "text/plain": "                0            1            2             3             4   \\\n13480  2969.146721  2473.321526  1447.869351  22115.129531  22325.220123   \n13481  1742.083065  1994.916719   865.624724  14327.354086  14324.996597   \n13482  2028.471218  2015.055832  2335.022336  18789.899970  18711.387951   \n13483  1051.061435   818.140076   551.083196  13086.448158  12948.836854   \n13484  1071.355443  1290.315781  1292.751113  12796.914747  12666.769306   \n\n                 5           6           7            8            9   ...  \\\n13480  22534.402232  264.729778  158.561182  1363.640426  1344.060603  ...   \n13481  14239.039234  537.158360  140.975995  1480.681799   724.728864  ...   \n13482  18647.225090  451.884007  309.745333  2040.704861  1056.139326  ...   \n13483  13011.405341  455.550633  478.432020  1219.738138   903.401255  ...   \n13484  12765.219752  508.659575  249.899925  2500.941723   767.672898  ...   \n\n             39        40        41        42        43        44        45  \\\n13480  0.442120  0.448381  0.442906  0.650128  0.792571  0.664556  0.951600   \n13481  0.641355  0.646239  0.644091  0.814893  0.859487  0.818022  0.973283   \n13482  0.524482  0.532960  0.528725  0.703835  0.815576  0.715609  0.961853   \n13483  0.668946  0.676004  0.671661  0.818412  0.867162  0.821037  0.970688   \n13484  0.686069  0.692793  0.689661  0.843417  0.881960  0.837545  0.975184   \n\n             46        47    48  \n13480  0.996096  0.912885  5000  \n13481  0.997926  0.947797  5000  \n13482  0.995722  0.933053  5000  \n13483  0.996403  0.951820  5000  \n13484  0.997423  0.958018  5000  \n\n[5 rows x 49 columns]",
      "text/html": "<div>\n<style scoped>\n    .dataframe tbody tr th:only-of-type {\n        vertical-align: middle;\n    }\n\n    .dataframe tbody tr th {\n        vertical-align: top;\n    }\n\n    .dataframe thead th {\n        text-align: right;\n    }\n</style>\n<table border=\"1\" class=\"dataframe\">\n  <thead>\n    <tr style=\"text-align: right;\">\n      <th></th>\n      <th>0</th>\n      <th>1</th>\n      <th>2</th>\n      <th>3</th>\n      <th>4</th>\n      <th>5</th>\n      <th>6</th>\n      <th>7</th>\n      <th>8</th>\n      <th>9</th>\n      <th>...</th>\n      <th>39</th>\n      <th>40</th>\n      <th>41</th>\n      <th>42</th>\n      <th>43</th>\n      <th>44</th>\n      <th>45</th>\n      <th>46</th>\n      <th>47</th>\n      <th>48</th>\n    </tr>\n  </thead>\n  <tbody>\n    <tr>\n      <th>13480</th>\n      <td>2969.146721</td>\n      <td>2473.321526</td>\n      <td>1447.869351</td>\n      <td>22115.129531</td>\n      <td>22325.220123</td>\n      <td>22534.402232</td>\n      <td>264.729778</td>\n      <td>158.561182</td>\n      <td>1363.640426</td>\n      <td>1344.060603</td>\n      <td>...</td>\n      <td>0.442120</td>\n      <td>0.448381</td>\n      <td>0.442906</td>\n      <td>0.650128</td>\n      <td>0.792571</td>\n      <td>0.664556</td>\n      <td>0.951600</td>\n      <td>0.996096</td>\n      <td>0.912885</td>\n      <td>5000</td>\n    </tr>\n    <tr>\n      <th>13481</th>\n      <td>1742.083065</td>\n      <td>1994.916719</td>\n      <td>865.624724</td>\n      <td>14327.354086</td>\n      <td>14324.996597</td>\n      <td>14239.039234</td>\n      <td>537.158360</td>\n      <td>140.975995</td>\n      <td>1480.681799</td>\n      <td>724.728864</td>\n      <td>...</td>\n      <td>0.641355</td>\n      <td>0.646239</td>\n      <td>0.644091</td>\n      <td>0.814893</td>\n      <td>0.859487</td>\n      <td>0.818022</td>\n      <td>0.973283</td>\n      <td>0.997926</td>\n      <td>0.947797</td>\n      <td>5000</td>\n    </tr>\n    <tr>\n      <th>13482</th>\n      <td>2028.471218</td>\n      <td>2015.055832</td>\n      <td>2335.022336</td>\n      <td>18789.899970</td>\n      <td>18711.387951</td>\n      <td>18647.225090</td>\n      <td>451.884007</td>\n      <td>309.745333</td>\n      <td>2040.704861</td>\n      <td>1056.139326</td>\n      <td>...</td>\n      <td>0.524482</td>\n      <td>0.532960</td>\n      <td>0.528725</td>\n      <td>0.703835</td>\n      <td>0.815576</td>\n      <td>0.715609</td>\n      <td>0.961853</td>\n      <td>0.995722</td>\n      <td>0.933053</td>\n      <td>5000</td>\n    </tr>\n    <tr>\n      <th>13483</th>\n      <td>1051.061435</td>\n      <td>818.140076</td>\n      <td>551.083196</td>\n      <td>13086.448158</td>\n      <td>12948.836854</td>\n      <td>13011.405341</td>\n      <td>455.550633</td>\n      <td>478.432020</td>\n      <td>1219.738138</td>\n      <td>903.401255</td>\n      <td>...</td>\n      <td>0.668946</td>\n      <td>0.676004</td>\n      <td>0.671661</td>\n      <td>0.818412</td>\n      <td>0.867162</td>\n      <td>0.821037</td>\n      <td>0.970688</td>\n      <td>0.996403</td>\n      <td>0.951820</td>\n      <td>5000</td>\n    </tr>\n    <tr>\n      <th>13484</th>\n      <td>1071.355443</td>\n      <td>1290.315781</td>\n      <td>1292.751113</td>\n      <td>12796.914747</td>\n      <td>12666.769306</td>\n      <td>12765.219752</td>\n      <td>508.659575</td>\n      <td>249.899925</td>\n      <td>2500.941723</td>\n      <td>767.672898</td>\n      <td>...</td>\n      <td>0.686069</td>\n      <td>0.692793</td>\n      <td>0.689661</td>\n      <td>0.843417</td>\n      <td>0.881960</td>\n      <td>0.837545</td>\n      <td>0.975184</td>\n      <td>0.997423</td>\n      <td>0.958018</td>\n      <td>5000</td>\n    </tr>\n  </tbody>\n</table>\n<p>5 rows × 49 columns</p>\n</div>"
     },
     "execution_count": 20,
     "metadata": {},
     "output_type": "execute_result"
    }
   ],
   "source": [
    "import pandas as pd\n",
    "features_db=pd.read_csv('dataset.csv',header=None)\n",
    "features_db.tail()"
   ]
  },
  {
   "cell_type": "code",
   "execution_count": 21,
   "outputs": [
    {
     "data": {
      "text/plain": "{20: 0, 50: 1, 100: 2, 500: 3, 1000: 4, 5000: 5}"
     },
     "execution_count": 21,
     "metadata": {},
     "output_type": "execute_result"
    }
   ],
   "source": [
    "import numpy as np\n",
    "\n",
    "class_mapping = {label: idx for idx, label in enumerate(np.unique(features_db[48]))}\n",
    "class_mapping"
   ],
   "metadata": {
    "collapsed": false,
    "pycharm": {
     "name": "#%%\n"
    }
   }
  },
  {
   "cell_type": "code",
   "execution_count": 22,
   "outputs": [],
   "source": [
    "features_db[48] = features_db[48].map(class_mapping)"
   ],
   "metadata": {
    "collapsed": false,
    "pycharm": {
     "name": "#%%\n"
    }
   }
  },
  {
   "cell_type": "code",
   "execution_count": 23,
   "outputs": [
    {
     "data": {
      "text/plain": "            0            1           2             3             4   \\\n0  1492.938856  1347.401558  219.999709  14344.049734  14179.040576   \n1  1500.289217  1843.120526  587.947420  15993.340397  16120.988866   \n2  2096.272353  2641.943684  854.716676  17942.880479  17893.380551   \n3  1497.021469  1782.138231  621.260047  13658.343151  13545.440563   \n4  2526.896073  2857.103238  712.958130  21270.917251  21409.730414   \n\n             5            6          7            8            9   ...  \\\n0  14621.001022   554.190593  87.322543  1960.494281   717.518375  ...   \n1  16465.910451  1172.628002  85.667794  2172.756086  1166.574615  ...   \n2  18121.133533  1046.859977  58.434882  2498.300283  1052.053296  ...   \n3  13772.023074  1245.624305  21.865539  2240.382241  1013.803793  ...   \n4  21891.434596   886.041734  43.452874  2658.968542  1603.463843  ...   \n\n         39        40        41        42        43        44        45  \\\n0  0.640614  0.656852  0.639577  0.735914  0.759686  0.707626  0.970480   \n1  0.599198  0.601455  0.595510  0.791615  0.808392  0.779226  0.962840   \n2  0.536238  0.543948  0.537136  0.724627  0.748196  0.705914  0.962997   \n3  0.638115  0.643581  0.638949  0.794660  0.817667  0.787220  0.966283   \n4  0.461218  0.466708  0.458708  0.653070  0.671970  0.630832  0.947733   \n\n         46        47  48  \n0  0.993641  0.923454   2  \n1  0.985576  0.927650   2  \n2  0.988915  0.915901   2  \n3  0.986080  0.934496   2  \n4  0.984391  0.891138   2  \n\n[5 rows x 49 columns]",
      "text/html": "<div>\n<style scoped>\n    .dataframe tbody tr th:only-of-type {\n        vertical-align: middle;\n    }\n\n    .dataframe tbody tr th {\n        vertical-align: top;\n    }\n\n    .dataframe thead th {\n        text-align: right;\n    }\n</style>\n<table border=\"1\" class=\"dataframe\">\n  <thead>\n    <tr style=\"text-align: right;\">\n      <th></th>\n      <th>0</th>\n      <th>1</th>\n      <th>2</th>\n      <th>3</th>\n      <th>4</th>\n      <th>5</th>\n      <th>6</th>\n      <th>7</th>\n      <th>8</th>\n      <th>9</th>\n      <th>...</th>\n      <th>39</th>\n      <th>40</th>\n      <th>41</th>\n      <th>42</th>\n      <th>43</th>\n      <th>44</th>\n      <th>45</th>\n      <th>46</th>\n      <th>47</th>\n      <th>48</th>\n    </tr>\n  </thead>\n  <tbody>\n    <tr>\n      <th>0</th>\n      <td>1492.938856</td>\n      <td>1347.401558</td>\n      <td>219.999709</td>\n      <td>14344.049734</td>\n      <td>14179.040576</td>\n      <td>14621.001022</td>\n      <td>554.190593</td>\n      <td>87.322543</td>\n      <td>1960.494281</td>\n      <td>717.518375</td>\n      <td>...</td>\n      <td>0.640614</td>\n      <td>0.656852</td>\n      <td>0.639577</td>\n      <td>0.735914</td>\n      <td>0.759686</td>\n      <td>0.707626</td>\n      <td>0.970480</td>\n      <td>0.993641</td>\n      <td>0.923454</td>\n      <td>2</td>\n    </tr>\n    <tr>\n      <th>1</th>\n      <td>1500.289217</td>\n      <td>1843.120526</td>\n      <td>587.947420</td>\n      <td>15993.340397</td>\n      <td>16120.988866</td>\n      <td>16465.910451</td>\n      <td>1172.628002</td>\n      <td>85.667794</td>\n      <td>2172.756086</td>\n      <td>1166.574615</td>\n      <td>...</td>\n      <td>0.599198</td>\n      <td>0.601455</td>\n      <td>0.595510</td>\n      <td>0.791615</td>\n      <td>0.808392</td>\n      <td>0.779226</td>\n      <td>0.962840</td>\n      <td>0.985576</td>\n      <td>0.927650</td>\n      <td>2</td>\n    </tr>\n    <tr>\n      <th>2</th>\n      <td>2096.272353</td>\n      <td>2641.943684</td>\n      <td>854.716676</td>\n      <td>17942.880479</td>\n      <td>17893.380551</td>\n      <td>18121.133533</td>\n      <td>1046.859977</td>\n      <td>58.434882</td>\n      <td>2498.300283</td>\n      <td>1052.053296</td>\n      <td>...</td>\n      <td>0.536238</td>\n      <td>0.543948</td>\n      <td>0.537136</td>\n      <td>0.724627</td>\n      <td>0.748196</td>\n      <td>0.705914</td>\n      <td>0.962997</td>\n      <td>0.988915</td>\n      <td>0.915901</td>\n      <td>2</td>\n    </tr>\n    <tr>\n      <th>3</th>\n      <td>1497.021469</td>\n      <td>1782.138231</td>\n      <td>621.260047</td>\n      <td>13658.343151</td>\n      <td>13545.440563</td>\n      <td>13772.023074</td>\n      <td>1245.624305</td>\n      <td>21.865539</td>\n      <td>2240.382241</td>\n      <td>1013.803793</td>\n      <td>...</td>\n      <td>0.638115</td>\n      <td>0.643581</td>\n      <td>0.638949</td>\n      <td>0.794660</td>\n      <td>0.817667</td>\n      <td>0.787220</td>\n      <td>0.966283</td>\n      <td>0.986080</td>\n      <td>0.934496</td>\n      <td>2</td>\n    </tr>\n    <tr>\n      <th>4</th>\n      <td>2526.896073</td>\n      <td>2857.103238</td>\n      <td>712.958130</td>\n      <td>21270.917251</td>\n      <td>21409.730414</td>\n      <td>21891.434596</td>\n      <td>886.041734</td>\n      <td>43.452874</td>\n      <td>2658.968542</td>\n      <td>1603.463843</td>\n      <td>...</td>\n      <td>0.461218</td>\n      <td>0.466708</td>\n      <td>0.458708</td>\n      <td>0.653070</td>\n      <td>0.671970</td>\n      <td>0.630832</td>\n      <td>0.947733</td>\n      <td>0.984391</td>\n      <td>0.891138</td>\n      <td>2</td>\n    </tr>\n  </tbody>\n</table>\n<p>5 rows × 49 columns</p>\n</div>"
     },
     "execution_count": 23,
     "metadata": {},
     "output_type": "execute_result"
    }
   ],
   "source": [
    "features_db.head()"
   ],
   "metadata": {
    "collapsed": false,
    "pycharm": {
     "name": "#%%\n"
    }
   }
  },
  {
   "cell_type": "code",
   "execution_count": 24,
   "outputs": [],
   "source": [
    "X,Y = features_db.loc[:,0:47],features_db.loc[:,48]"
   ],
   "metadata": {
    "collapsed": false,
    "pycharm": {
     "name": "#%%\n"
    }
   }
  },
  {
   "cell_type": "code",
   "execution_count": 25,
   "outputs": [],
   "source": [
    "from distutils.version import LooseVersion as Version\n",
    "from sklearn import __version__ as sklearn_version\n",
    "if Version(sklearn_version) < '0.18':\n",
    "    from sklearn.model_selection import train_test_split\n",
    "else:\n",
    "    from sklearn.model_selection import train_test_split\n",
    "# print(Version(sklearn_version))\n",
    "X_train, X_test, y_train, y_test = train_test_split(X, Y, test_size=0.3, random_state=0)"
   ],
   "metadata": {
    "collapsed": false,
    "pycharm": {
     "name": "#%%\n"
    }
   }
  },
  {
   "cell_type": "code",
   "execution_count": 26,
   "outputs": [
    {
     "name": "stdout",
     "output_type": "stream",
     "text": [
      "Random image size and shape check:  (1028, 1028, 3)\n"
     ]
    }
   ],
   "source": [
    "import cv2\n",
    "\n",
    "### example checking image size.\n",
    "frame = cv2.imread('Final_Images/50/2.jpg')\n",
    "print(\"Random image size and shape check: \", frame.shape)\n"
   ],
   "metadata": {
    "collapsed": false,
    "pycharm": {
     "name": "#%%\n"
    }
   }
  },
  {
   "cell_type": "code",
   "execution_count": 27,
   "outputs": [
    {
     "name": "stdout",
     "output_type": "stream",
     "text": [
      "                0            1            2             3             4   \\\n",
      "0      1492.938856  1347.401558   219.999709  14344.049734  14179.040576   \n",
      "1      1500.289217  1843.120526   587.947420  15993.340397  16120.988866   \n",
      "2      2096.272353  2641.943684   854.716676  17942.880479  17893.380551   \n",
      "3      1497.021469  1782.138231   621.260047  13658.343151  13545.440563   \n",
      "4      2526.896073  2857.103238   712.958130  21270.917251  21409.730414   \n",
      "...            ...          ...          ...           ...           ...   \n",
      "13480  2969.146721  2473.321526  1447.869351  22115.129531  22325.220123   \n",
      "13481  1742.083065  1994.916719   865.624724  14327.354086  14324.996597   \n",
      "13482  2028.471218  2015.055832  2335.022336  18789.899970  18711.387951   \n",
      "13483  1051.061435   818.140076   551.083196  13086.448158  12948.836854   \n",
      "13484  1071.355443  1290.315781  1292.751113  12796.914747  12666.769306   \n",
      "\n",
      "                 5            6           7            8            9   ...  \\\n",
      "0      14621.001022   554.190593   87.322543  1960.494281   717.518375  ...   \n",
      "1      16465.910451  1172.628002   85.667794  2172.756086  1166.574615  ...   \n",
      "2      18121.133533  1046.859977   58.434882  2498.300283  1052.053296  ...   \n",
      "3      13772.023074  1245.624305   21.865539  2240.382241  1013.803793  ...   \n",
      "4      21891.434596   886.041734   43.452874  2658.968542  1603.463843  ...   \n",
      "...             ...          ...         ...          ...          ...  ...   \n",
      "13480  22534.402232   264.729778  158.561182  1363.640426  1344.060603  ...   \n",
      "13481  14239.039234   537.158360  140.975995  1480.681799   724.728864  ...   \n",
      "13482  18647.225090   451.884007  309.745333  2040.704861  1056.139326  ...   \n",
      "13483  13011.405341   455.550633  478.432020  1219.738138   903.401255  ...   \n",
      "13484  12765.219752   508.659575  249.899925  2500.941723   767.672898  ...   \n",
      "\n",
      "             39        40        41        42        43        44        45  \\\n",
      "0      0.640614  0.656852  0.639577  0.735914  0.759686  0.707626  0.970480   \n",
      "1      0.599198  0.601455  0.595510  0.791615  0.808392  0.779226  0.962840   \n",
      "2      0.536238  0.543948  0.537136  0.724627  0.748196  0.705914  0.962997   \n",
      "3      0.638115  0.643581  0.638949  0.794660  0.817667  0.787220  0.966283   \n",
      "4      0.461218  0.466708  0.458708  0.653070  0.671970  0.630832  0.947733   \n",
      "...         ...       ...       ...       ...       ...       ...       ...   \n",
      "13480  0.442120  0.448381  0.442906  0.650128  0.792571  0.664556  0.951600   \n",
      "13481  0.641355  0.646239  0.644091  0.814893  0.859487  0.818022  0.973283   \n",
      "13482  0.524482  0.532960  0.528725  0.703835  0.815576  0.715609  0.961853   \n",
      "13483  0.668946  0.676004  0.671661  0.818412  0.867162  0.821037  0.970688   \n",
      "13484  0.686069  0.692793  0.689661  0.843417  0.881960  0.837545  0.975184   \n",
      "\n",
      "             46        47  48  \n",
      "0      0.993641  0.923454   2  \n",
      "1      0.985576  0.927650   2  \n",
      "2      0.988915  0.915901   2  \n",
      "3      0.986080  0.934496   2  \n",
      "4      0.984391  0.891138   2  \n",
      "...         ...       ...  ..  \n",
      "13480  0.996096  0.912885   5  \n",
      "13481  0.997926  0.947797   5  \n",
      "13482  0.995722  0.933053   5  \n",
      "13483  0.996403  0.951820   5  \n",
      "13484  0.997423  0.958018   5  \n",
      "\n",
      "[13485 rows x 49 columns]\n"
     ]
    }
   ],
   "source": [
    "print(features_db)"
   ],
   "metadata": {
    "collapsed": false,
    "pycharm": {
     "name": "#%%\n"
    }
   }
  },
  {
   "cell_type": "code",
   "execution_count": 28,
   "outputs": [],
   "source": [
    "from sklearn.preprocessing import StandardScaler\n",
    "\n",
    "sc = StandardScaler()\n",
    "sc.fit(X_train)\n",
    "X_train_std = sc.transform(X_train)\n",
    "X_test_std = sc.transform(X_test)"
   ],
   "metadata": {
    "collapsed": false,
    "pycharm": {
     "name": "#%%\n"
    }
   }
  },
  {
   "cell_type": "code",
   "execution_count": 29,
   "outputs": [
    {
     "name": "stdout",
     "output_type": "stream",
     "text": [
      "Train :  (9439, 10)\n",
      "Test  :  (4046, 10)\n"
     ]
    }
   ],
   "source": [
    "from sklearn.decomposition import PCA\n",
    "pca = PCA(n_components=10)\n",
    "X_train_std = pca.fit_transform(X_train_std)\n",
    "X_test_std = pca.transform(X_test_std)\n",
    "print(\"Train : \", X_train_std.shape)\n",
    "print(\"Test  : \", X_test_std.shape)"
   ],
   "metadata": {
    "collapsed": false,
    "pycharm": {
     "name": "#%%\n"
    }
   }
  },
  {
   "cell_type": "code",
   "execution_count": 30,
   "outputs": [
    {
     "name": "stdout",
     "output_type": "stream",
     "text": [
      "~ Perceptron Classifier ~\n",
      "\n",
      "Precision, Recall, F1, Support =  (0.8144224766847373, 0.7862086010874938, 0.7828685430243606, None)\n",
      "\n",
      "Accuracy: 0.7862086010874938\n",
      "Accuracy: 78.62 %\n"
     ]
    }
   ],
   "source": [
    "print(\"~ Perceptron Classifier ~\")\n",
    "\n",
    "from sklearn.linear_model import Perceptron\n",
    "from sklearn.metrics import precision_recall_fscore_support\n",
    "from sklearn.metrics import accuracy_score\n",
    "\n",
    "# Initialize the classifier with some parameters\n",
    "perceptron = Perceptron(eta0=0.01, random_state=0)\n",
    "\n",
    "# Fit the classifier to the training data\n",
    "perceptron.fit(X_train_std, y_train)\n",
    "\n",
    "# Predict the classes of the test set\n",
    "y_pred = perceptron.predict(X_test_std)\n",
    "\n",
    "# Calculate precision, recall, f1-score, and support\n",
    "print(\"\\nPrecision, Recall, F1, Support = \", precision_recall_fscore_support(y_test, y_pred, average='weighted'))\n",
    "\n",
    "# Calculate accuracy\n",
    "accPerc = accuracy_score(y_test, y_pred)\n",
    "print(\"\\nAccuracy:\", accPerc)\n",
    "print('Accuracy: {:.2f} %'.format(accPerc*100))"
   ],
   "metadata": {
    "collapsed": false,
    "pycharm": {
     "name": "#%%\n"
    }
   }
  },
  {
   "cell_type": "code",
   "execution_count": 31,
   "outputs": [
    {
     "name": "stdout",
     "output_type": "stream",
     "text": [
      "~ Support Vector Machine Classifier ~\n",
      "\n",
      "Precision, Recall, F1, Support =  (0.9547832374045736, 0.9540286702916461, 0.9541237755083541, None)\n",
      "\n",
      "Accuracy: 0.9540286702916461\n",
      "Accuracy: 95.40 %\n"
     ]
    }
   ],
   "source": [
    "print(\"~ Support Vector Machine Classifier ~\")\n",
    "\n",
    "from sklearn.svm import SVC\n",
    "\n",
    "# Initialize the classifier with some parameters\n",
    "svm = SVC(kernel='linear', C=1, random_state=0)\n",
    "\n",
    "# Fit the classifier to the training data\n",
    "svm.fit(X_train_std, y_train)\n",
    "\n",
    "# Predict the classes of the test set\n",
    "y_pred = svm.predict(X_test_std)\n",
    "\n",
    "# Calculate precision, recall, f1-score, and support\n",
    "print(\"\\nPrecision, Recall, F1, Support = \", precision_recall_fscore_support(y_test, y_pred, average='weighted'))\n",
    "\n",
    "# Calculate accuracy\n",
    "accSVM = accuracy_score(y_test, y_pred)\n",
    "print(\"\\nAccuracy:\", accSVM)\n",
    "print('Accuracy: {:.2f} %'.format(accSVM*100))"
   ],
   "metadata": {
    "collapsed": false,
    "pycharm": {
     "name": "#%%\n"
    }
   }
  },
  {
   "cell_type": "code",
   "execution_count": 32,
   "outputs": [
    {
     "name": "stdout",
     "output_type": "stream",
     "text": [
      "~ Random Forest Classifier ~\n",
      "\n",
      "Precision, Recall, F1, Support =  (0.9963038649624141, 0.9962926347009392, 0.9962916009454846, None)\n",
      "\n",
      "Accuracy: 0.9962926347009392\n",
      "Accuracy: 99.63 %\n"
     ]
    }
   ],
   "source": [
    "print(\"~ Random Forest Classifier ~\")\n",
    "\n",
    "from sklearn.ensemble import RandomForestClassifier\n",
    "\n",
    "# Initialize the classifier with some parameters\n",
    "rf = RandomForestClassifier(n_estimators=100, criterion='entropy', random_state=0)\n",
    "\n",
    "# Fit the classifier to the training data\n",
    "rf.fit(X_train_std, y_train)\n",
    "\n",
    "# Predict the classes of the test set\n",
    "y_pred = rf.predict(X_test_std)\n",
    "\n",
    "# Calculate precision, recall, f1-score, and support\n",
    "print(\"\\nPrecision, Recall, F1, Support = \", precision_recall_fscore_support(y_test, y_pred, average='weighted'))\n",
    "\n",
    "# Calculate accuracy\n",
    "accRF = accuracy_score(y_test, y_pred)\n",
    "print(\"\\nAccuracy:\", accRF)\n",
    "print('Accuracy: {:.2f} %'.format(accRF*100))"
   ],
   "metadata": {
    "collapsed": false,
    "pycharm": {
     "name": "#%%\n"
    }
   }
  },
  {
   "cell_type": "code",
   "execution_count": 33,
   "outputs": [
    {
     "name": "stdout",
     "output_type": "stream",
     "text": [
      "~ Logistic Regression Classifier ~\n",
      "\n",
      "Precision, Recall, F1, Support =  (0.9294733936746442, 0.9280771131982205, 0.9283564592099215, None)\n",
      "\n",
      "Accuracy: 0.9280771131982205\n",
      "Accuracy: 92.81 %\n"
     ]
    },
    {
     "name": "stderr",
     "output_type": "stream",
     "text": [
      "c:\\users\\user\\pycharmprojects\\currencydetection - fyp\\venv\\lib\\site-packages\\sklearn\\linear_model\\_logistic.py:458: ConvergenceWarning: lbfgs failed to converge (status=1):\n",
      "STOP: TOTAL NO. of ITERATIONS REACHED LIMIT.\n",
      "\n",
      "Increase the number of iterations (max_iter) or scale the data as shown in:\n",
      "    https://scikit-learn.org/stable/modules/preprocessing.html\n",
      "Please also refer to the documentation for alternative solver options:\n",
      "    https://scikit-learn.org/stable/modules/linear_model.html#logistic-regression\n",
      "  n_iter_i = _check_optimize_result(\n"
     ]
    }
   ],
   "source": [
    "print(\"~ Logistic Regression Classifier ~\")\n",
    "\n",
    "from sklearn.linear_model import LogisticRegression\n",
    "\n",
    "# Initialize the classifier with some parameters\n",
    "log_reg = LogisticRegression(random_state=0)\n",
    "\n",
    "# Fit the classifier to the training data\n",
    "log_reg.fit(X_train_std, y_train)\n",
    "\n",
    "# Predict the classes of the test set\n",
    "y_pred = log_reg.predict(X_test_std)\n",
    "\n",
    "# Calculate precision, recall, f1-score, and support\n",
    "print(\"\\nPrecision, Recall, F1, Support = \", precision_recall_fscore_support(y_test, y_pred, average='weighted'))\n",
    "\n",
    "# Calculate accuracy\n",
    "accLR = accuracy_score(y_test, y_pred)\n",
    "print(\"\\nAccuracy:\", accLR)\n",
    "print('Accuracy: {:.2f} %'.format(accLR*100))"
   ],
   "metadata": {
    "collapsed": false,
    "pycharm": {
     "name": "#%%\n"
    }
   }
  },
  {
   "cell_type": "code",
   "execution_count": 34,
   "outputs": [
    {
     "name": "stdout",
     "output_type": "stream",
     "text": [
      "~ Naive Bayes Classifier ~\n",
      "\n",
      "Precision, Recall, F1, Support =  (0.8404363293472222, 0.8361344537815126, 0.8367519223724964, None)\n",
      "\n",
      "Accuracy: 0.8361344537815126\n",
      "Accuracy: 83.61 %\n"
     ]
    }
   ],
   "source": [
    "print(\"~ Naive Bayes Classifier ~\")\n",
    "\n",
    "# Import necessary libraries\n",
    "from sklearn.naive_bayes import GaussianNB\n",
    "from sklearn.metrics import precision_recall_fscore_support\n",
    "from sklearn.metrics import accuracy_score\n",
    "\n",
    "# Initialize the classifier\n",
    "gnb = GaussianNB()\n",
    "\n",
    "# Fit the classifier to the training data\n",
    "gnb.fit(X_train_std, y_train)\n",
    "\n",
    "# Predict the classes of the test data\n",
    "y_pred = gnb.predict(X_test_std)\n",
    "\n",
    "# Calculate precision, recall, f1-score, and support\n",
    "print(\"\\nPrecision, Recall, F1, Support = \", precision_recall_fscore_support(y_test, y_pred, average='weighted'))\n",
    "\n",
    "# Calculate accuracy\n",
    "accNB = accuracy_score(y_test, y_pred)\n",
    "print(\"\\nAccuracy:\", accNB)\n",
    "print('Accuracy: {:.2f} %'.format(accNB*100))"
   ],
   "metadata": {
    "collapsed": false,
    "pycharm": {
     "name": "#%%\n"
    }
   }
  },
  {
   "cell_type": "code",
   "execution_count": 35,
   "outputs": [
    {
     "name": "stdout",
     "output_type": "stream",
     "text": [
      "~ Decision Tree Classifier ~\n",
      "\n",
      "Precision, Recall, F1, Support =  (0.9438076947174965, 0.9438952051408799, 0.9438266219261876, None)\n",
      "\n",
      "Accuracy: 0.9438952051408799\n",
      "Accuracy: 94.39 %\n"
     ]
    }
   ],
   "source": [
    "print(\"~ Decision Tree Classifier ~\")\n",
    "\n",
    "# Import necessary libraries\n",
    "from sklearn.tree import DecisionTreeClassifier\n",
    "from sklearn.metrics import precision_recall_fscore_support\n",
    "from sklearn.metrics import accuracy_score\n",
    "\n",
    "# Initialize the classifier\n",
    "clf = DecisionTreeClassifier()\n",
    "\n",
    "# Fit the classifier to the training data\n",
    "clf.fit(X_train_std, y_train)\n",
    "\n",
    "# Predict the classes of the test data\n",
    "y_pred = clf.predict(X_test_std)\n",
    "\n",
    "# Calculate precision, recall, f1-score, and support\n",
    "print(\"\\nPrecision, Recall, F1, Support = \", precision_recall_fscore_support(y_test, y_pred, average='weighted'))\n",
    "\n",
    "# Calculate accuracy\n",
    "accDT = accuracy_score(y_test, y_pred)\n",
    "print(\"\\nAccuracy:\", accDT)\n",
    "print('Accuracy: {:.2f} %'.format(accDT*100))"
   ],
   "metadata": {
    "collapsed": false,
    "pycharm": {
     "name": "#%%\n"
    }
   }
  },
  {
   "cell_type": "code",
   "execution_count": 36,
   "outputs": [
    {
     "name": "stdout",
     "output_type": "stream",
     "text": [
      "~ K-Nearest Neighbour Classifier ~\n",
      "\n",
      "Precision, Recall, F1, Support =  (0.997034502556075, 0.9970341077607514, 0.997033406616562, None)\n",
      "\n",
      "Accuracy: 0.9970341077607514\n",
      "Accuracy: 99.70 %\n"
     ]
    }
   ],
   "source": [
    "print(\"~ K-Nearest Neighbour Classifier ~\")\n",
    "\n",
    "# Import necessary libraries\n",
    "from sklearn.neighbors import KNeighborsClassifier\n",
    "from sklearn.metrics import precision_recall_fscore_support\n",
    "from sklearn.metrics import accuracy_score\n",
    "\n",
    "# Initialize the classifier\n",
    "knn = KNeighborsClassifier()\n",
    "\n",
    "# Fit the classifier to the training data\n",
    "knn.fit(X_train_std, y_train)\n",
    "\n",
    "# Predict the classes of the test data\n",
    "y_pred = knn.predict(X_test_std)\n",
    "\n",
    "# Calculate precision, recall, f1-score, and support\n",
    "print(\"\\nPrecision, Recall, F1, Support = \", precision_recall_fscore_support(y_test, y_pred, average='weighted'))\n",
    "\n",
    "# Calculate accuracy\n",
    "accKNN = accuracy_score(y_test, y_pred)\n",
    "print(\"\\nAccuracy:\", accKNN)\n",
    "print('Accuracy: {:.2f} %'.format(accKNN*100))"
   ],
   "metadata": {
    "collapsed": false,
    "pycharm": {
     "name": "#%%\n"
    }
   }
  },
  {
   "cell_type": "code",
   "execution_count": 37,
   "outputs": [
    {
     "name": "stdout",
     "output_type": "stream",
     "text": [
      "~ Multi-Layer Perceptron Classifier ~\n",
      "Iteration 1, loss = 0.47847098\n",
      "Iteration 2, loss = 0.10383986\n",
      "Iteration 3, loss = 0.07295699\n",
      "Iteration 4, loss = 0.05526177\n",
      "Iteration 5, loss = 0.04605613\n",
      "Iteration 6, loss = 0.03791325\n",
      "Iteration 7, loss = 0.03069199\n",
      "Iteration 8, loss = 0.02636387\n",
      "Iteration 9, loss = 0.02379715\n",
      "Iteration 10, loss = 0.02046241\n",
      "\n",
      "Precision, Recall, F1, Support =  (0.9950762245788931, 0.9950568462679189, 0.9950546979781907, None)\n",
      "\n",
      "Accuracy: 0.9950568462679189\n",
      "Accuracy: 99.51 %\n"
     ]
    },
    {
     "name": "stderr",
     "output_type": "stream",
     "text": [
      "c:\\users\\user\\pycharmprojects\\currencydetection - fyp\\venv\\lib\\site-packages\\sklearn\\neural_network\\_multilayer_perceptron.py:684: ConvergenceWarning: Stochastic Optimizer: Maximum iterations (10) reached and the optimization hasn't converged yet.\n",
      "  warnings.warn(\n"
     ]
    }
   ],
   "source": [
    "print(\"~ Multi-Layer Perceptron Classifier ~\")\n",
    "\n",
    "# Import necessary libraries\n",
    "from sklearn.neural_network import MLPClassifier\n",
    "from sklearn.metrics import precision_recall_fscore_support\n",
    "from sklearn.metrics import accuracy_score\n",
    "\n",
    "# Initialize the classifier\n",
    "mlp = MLPClassifier(hidden_layer_sizes=(50,), max_iter=10, alpha=1e-4,\n",
    "                    solver='sgd', verbose=10, tol=1e-4, random_state=1,\n",
    "                    learning_rate_init=.1)\n",
    "\n",
    "# Fit the classifier to the training data\n",
    "mlp.fit(X_train_std, y_train)\n",
    "\n",
    "# Predict the classes of the test data\n",
    "y_pred = mlp.predict(X_test_std)\n",
    "\n",
    "# Calculate precision, recall, f1-score, and support\n",
    "print(\"\\nPrecision, Recall, F1, Support = \", precision_recall_fscore_support(y_test, y_pred, average='weighted'))\n",
    "\n",
    "# Calculate accuracy\n",
    "accMLP = accuracy_score(y_test, y_pred)\n",
    "print(\"\\nAccuracy:\", accMLP)\n",
    "print('Accuracy: {:.2f} %'.format(accMLP*100))"
   ],
   "metadata": {
    "collapsed": false,
    "pycharm": {
     "name": "#%%\n"
    }
   }
  },
  {
   "cell_type": "code",
   "execution_count": 38,
   "outputs": [],
   "source": [
    "# print(\"~ Convolutional Neural Network Classifier ~\")\n",
    "#\n",
    "# # Import necessary libraries\n",
    "# import keras\n",
    "# from keras.models import Sequential\n",
    "# from keras.layers import Dense, Dropout, Flatten\n",
    "# from keras.layers import Conv2D, MaxPooling2D\n",
    "# from sklearn.metrics import precision_recall_fscore_support\n",
    "# from sklearn.metrics import accuracy_score\n",
    "#\n",
    "# # Reshape the data for the Conv2D layer\n",
    "# X_train_cnn = X_train_std.reshape(X_train_std.shape[0], 28, 28, 1)\n",
    "# X_test_cnn = X_test_std.reshape(X_test_std.shape[0], 28, 28, 1)\n",
    "#\n",
    "# # Initialize the model\n",
    "# cnn = Sequential()\n",
    "# # Add the Conv2D layer\n",
    "# cnn.add(Conv2D(32, kernel_size=(3, 3), activation='relu', input_shape=(28, 28, 1)))\n",
    "# # Add the MaxPooling2D layer\n",
    "# cnn.add(MaxPooling2D(pool_size=(2, 2)))\n",
    "# # Add the Dropout layer\n",
    "# cnn.add(Dropout(0.25))\n",
    "# # Add the Flatten layer\n",
    "# cnn.add(Flatten())\n",
    "# # Add the Dense layer\n",
    "# cnn.add(Dense(128, activation='relu'))\n",
    "# # Add the Dropout layer\n",
    "# cnn.add(Dropout(0.5))\n",
    "# # Add the final Dense layer with the number of classes as output units\n",
    "# cnn.add(Dense(10, activation='softmax'))\n",
    "# # Compile the model\n",
    "# cnn.compile(loss=keras.losses.categorical_crossentropy, optimizer=keras.optimizers.Adadelta(), metrics=['accuracy'])\n",
    "#\n",
    "# # Fit the model to the training data\n",
    "# cnn.fit(X_train_cnn, y_train, batch_size=128, epochs=12, verbose=1, validation_data=(X_test_cnn, y_test))\n",
    "#\n",
    "# # Predict the classes of the test data\n",
    "# y_pred = cnn.predict_classes(X_test_cnn)\n",
    "#\n",
    "# # Calculate precision, recall, f1-score, and support\n",
    "# print(\"\\nPrecision, Recall, F1, Support = \", precision_recall_fscore_support(y_test, y_pred, average='weighted'))\n",
    "#\n",
    "# # Calculate accuracy\n",
    "# accCNN = accuracy_score(y_test, y_pred)\n",
    "# print(\"\\nAccuracy:\", accCNN)\n",
    "# print('Accuracy: {:.2f} %'.format(accCNN*100))"
   ],
   "metadata": {
    "collapsed": false,
    "pycharm": {
     "name": "#%%\n"
    }
   }
  },
  {
   "cell_type": "code",
   "execution_count": 39,
   "outputs": [
    {
     "name": "stdout",
     "output_type": "stream",
     "text": [
      "Classifier Testings... Following Are The Accuracy Scores..\n",
      "\n",
      "Perceptron : 78.62 %\n",
      "Support Vector Machine : 95.39999999999999 %\n",
      "Random Forest : 99.63 %\n",
      "Logistic Regression : 92.81 %\n",
      "Naive Bayes : 83.61 %\n",
      "Decision Tree : 94.39 %\n",
      "K-Nearest Neighbour : 99.7 %\n",
      "Multi-Layer Perceptron : 99.51 %\n",
      "\n",
      "\n",
      "----- Final Solution -----\n",
      "\n",
      "Best Classifier :  K-Nearest Neighbour\n",
      "Best Accuracy   :  99.70 %\n",
      "\n",
      "--------------------------\n"
     ]
    }
   ],
   "source": [
    "from sklearn.metrics import classification_report, confusion_matrix\n",
    "\n",
    "# List of classifiers and their accuracy scores\n",
    "classifiers = {'Perceptron': accPerc, 'Support Vector Machine': accSVM, 'Random Forest': accRF, 'Logistic Regression': accLR, 'Naive Bayes': accNB, 'Decision Tree': accDT, 'K-Nearest Neighbour': accKNN, 'Multi-Layer Perceptron': accMLP}\n",
    "\n",
    "# Find the classifier with the highest accuracy\n",
    "best_classifier = max(classifiers, key=classifiers.get)\n",
    "best_accuracy = classifiers[best_classifier]\n",
    "\n",
    "print(\"Classifier Testings... Following Are The Accuracy Scores..\\n\")\n",
    "# Iterate through the classifiers dictionary\n",
    "for key, value in classifiers.items():\n",
    "    # Round the value to 2 decimal places\n",
    "    value = round(value, 4)\n",
    "    value = value*100\n",
    "    # Print the key and the value without brackets\n",
    "    print(\"{} : {}\".format(key, value), \"%\")\n",
    "\n",
    "# Print the best classifier and its accuracy\n",
    "print(\"\\n\\n----- Final Solution -----\\n\\nBest Classifier : \", best_classifier)\n",
    "print(\"Best Accuracy   :  {:.2f} %\".format(best_accuracy*100))\n",
    "print(\"\\n--------------------------\")"
   ],
   "metadata": {
    "collapsed": false,
    "pycharm": {
     "name": "#%%\n"
    }
   }
  },
  {
   "cell_type": "code",
   "execution_count": 40,
   "outputs": [
    {
     "name": "stdout",
     "output_type": "stream",
     "text": [
      "\n",
      "NOTE: The Following Classification Report Is Plotted For The Lastly Tested Classifier (Not For The Best Classifier).\n",
      "\n",
      "              precision    recall  f1-score   support\n",
      "\n",
      "           0       1.00      1.00      1.00       665\n",
      "           1       0.99      0.99      0.99       697\n",
      "           2       1.00      1.00      1.00       644\n",
      "           3       0.99      1.00      1.00       696\n",
      "           4       1.00      0.98      0.99       657\n",
      "           5       1.00      1.00      1.00       687\n",
      "\n",
      "    accuracy                           1.00      4046\n",
      "   macro avg       1.00      0.99      1.00      4046\n",
      "weighted avg       1.00      1.00      1.00      4046\n",
      "\n"
     ]
    }
   ],
   "source": [
    "# Printing the Classification Report with F1, Recall, Precision Scores.\n",
    "print(\"\\nNOTE: The Following Classification Report Is Plotted For The Lastly Tested Classifier (Not For The Best Classifier).\\n\")\n",
    "print(classification_report(y_test, y_pred))"
   ],
   "metadata": {
    "collapsed": false,
    "pycharm": {
     "name": "#%%\n"
    }
   }
  },
  {
   "cell_type": "code",
   "execution_count": 41,
   "outputs": [
    {
     "name": "stdout",
     "output_type": "stream",
     "text": [
      "As Calculated Above,\n",
      "The Best Classifier :  K-Nearest Neighbour\n",
      "Accuracy Score      :  99.70 %\n",
      "\n",
      "NOTE: The Following Confusion Matrix Is Plotted For The Lastly Tested Classifier (Not For The Best Classifier).\n",
      "\n"
     ]
    },
    {
     "data": {
      "text/plain": "<Figure size 1800x1400 with 2 Axes>",
      "image/png": "[encoded data removed]"
     },
     "metadata": {},
     "output_type": "display_data"
    }
   ],
   "source": [
    "import matplotlib.pyplot as plt\n",
    "import seaborn as sns\n",
    "\n",
    "# Getting the predictions for the best classifier\n",
    "\n",
    "print(\"As Calculated Above,\\nThe Best Classifier : \", best_classifier)\n",
    "print('Accuracy Score      :  {:.2f} %'.format(best_accuracy*100))\n",
    "print(\"\\nNOTE: The Following Confusion Matrix Is Plotted For The Lastly Tested Classifier (Not For The Best Classifier).\\n\")\n",
    "\n",
    "cf_matrix = confusion_matrix(y_test, y_pred)\n",
    "\n",
    "class_names = {0: '20', 1: '50', 2: '100', 3: '500', 4: '1000', 5: '5000'}\n",
    "\n",
    "# Plotting the Graph with proper figure size.\n",
    "fig, ax = plt.subplots(figsize=(18, 14))\n",
    "\n",
    "# Setting the Confusion Matrix Title.\n",
    "ax.set_title(\"Confusion Matrix - SL CURRENCY\\n\")\n",
    "\n",
    "# Initiating the Heatmap.\n",
    "# Heatmap represents the data in the form of a 2-dimensional format.\n",
    "mapping = sns.heatmap(cf_matrix,\n",
    "                        annot=True,\n",
    "                        cmap = plt.cm.Greens,\n",
    "                        linewidths=.2,\n",
    "                        xticklabels=[class_names[i] for i in range(len(class_names))],\n",
    "                        yticklabels=[class_names[i] for i in range(len(class_names))], vmax=8,\n",
    "                        fmt='g',\n",
    "                        ax=ax\n",
    "                    );"
   ],
   "metadata": {
    "collapsed": false,
    "pycharm": {
     "name": "#%%\n"
    }
   }
  },
  {
   "cell_type": "code",
   "execution_count": 42,
   "outputs": [],
   "source": [
    "import pickle\n",
    "\n",
    "# Saving Model.\n",
    "with open('model.pkl','wb') as f:\n",
    "    pickle.dump(knn,f)\n",
    "\n",
    "filename = \"labels.txt\"\n",
    "\n",
    "with open(filename, 'r') as file:\n",
    "    data = file.read()\n",
    "\n",
    "with open(\"labels.pkl\", \"wb\") as file:\n",
    "    pickle.dump(data, file)"
   ],
   "metadata": {
    "collapsed": false,
    "pycharm": {
     "name": "#%%\n"
    }
   }
  },
  {
   "cell_type": "code",
   "execution_count": 43,
   "outputs": [],
   "source": [
    "# import cv2\n",
    "# import numpy as np\n",
    "# import pickle\n",
    "# from sklearn.neighbors import KNeighborsClassifier\n",
    "#\n",
    "# with open('model.pkl', 'rb') as w:\n",
    "#     model = pickle.load(w)\n",
    "#\n",
    "# with open('labels.pkl', 'rb') as f:\n",
    "#     labels = pickle.load(f)\n",
    "#\n",
    "# model.predict(X_test_std)\n",
    "#\n",
    "# pca = PCA(n_components=10)\n",
    "# input_data = cv2.imread('Final_Images/5000/1293.jpg', cv2.IMREAD_GRAYSCALE)\n",
    "# input_data = cv2.resize(input_data, (10, 10))\n",
    "# input_data = np.repeat(input_data, 10, axis=0)\n",
    "# input_data = input_data.reshape(-1, 100)\n",
    "# input_data = pca.fit_transform(input_data)\n",
    "# prediction = model.predict(input_data[0].reshape(1, -1))\n",
    "# print(\"Prediction:\", prediction)\n",
    "\n",
    "\n",
    "import cv2\n",
    "import numpy as np\n",
    "import pickle\n",
    "from sklearn.neighbors import KNeighborsClassifier\n",
    "from sklearn.decomposition import PCA\n",
    "\n",
    "with open('model.pkl', 'rb') as w:\n",
    "    model = pickle.load(w)\n",
    "\n",
    "with open('labels.pkl', 'rb') as f:\n",
    "    labels = pickle.load(f)\n",
    "\n",
    "pca = PCA(n_components=10)\n",
    "\n",
    "cap = cv2.VideoCapture(0)\n",
    "while True:\n",
    "    ret, frame = cap.read()\n",
    "    gray = cv2.cvtColor(frame, cv2.COLOR_BGR2GRAY)\n",
    "    resized = cv2.resize(gray, (10, 10))\n",
    "    input_data = np.repeat(resized, 10, axis=0)\n",
    "    input_data = input_data.reshape(-1, 100)\n",
    "    input_data = pca.fit_transform(input_data)\n",
    "    prediction = model.predict(input_data[0].reshape(1, -1))\n",
    "    prediction = labels[prediction[0]]\n",
    "    cv2.putText(frame, \"Prediction: {}\".format(prediction), (10, 30), cv2.FONT_HERSHEY_SIMPLEX, 1, (0, 0, 255), 2)\n",
    "    cv2.imshow(\"WebCam\", frame)\n",
    "    if cv2.waitKey(1) & 0xFF == ord('q'):\n",
    "        break\n",
    "\n",
    "cap.release()\n",
    "cv2.destroyAllWindows()\n"
   ],
   "metadata": {
    "collapsed": false,
    "pycharm": {
     "name": "#%%\n"
    }
   }
  },
  {
   "cell_type": "code",
   "execution_count": 44,
   "outputs": [],
   "source": [
    "# from skimage.feature import greycomatrix, greycoprops\n",
    "# import pywt\n",
    "# # import cv2\n",
    "# # import pickle\n",
    "# # import numpy as np\n",
    "# #\n",
    "# # # Load the pre-trained KNN model from the pickle file\n",
    "# # with open('model.pkl', 'rb') as file:\n",
    "# #     knn = pickle.load(file)\n",
    "# #\n",
    "# # # Start the webcam\n",
    "# # cap = cv2.VideoCapture(0)\n",
    "# #\n",
    "# # while True:\n",
    "# #     # Capture a frame from the webcam\n",
    "# #     ret, frame = cap.read()\n",
    "# #     if not ret:\n",
    "# #         break\n",
    "# #\n",
    "# #     # Preprocess the frame (resize and convert to grayscale)\n",
    "# #     frame = cv2.resize(frame, (100, 100))\n",
    "# #     gray = cv2.cvtColor(frame, cv2.COLOR_BGR2GRAY)\n",
    "# #\n",
    "# #     # Flatten the preprocessed frame into a 1D array\n",
    "# #     data = gray.reshape(-1, 1)\n",
    "# #\n",
    "# #     # Predict the class of the frame using the KNN model\n",
    "# #     result = knn.predict([data])\n",
    "# #     print(f\"Detected class: {result[0]}\")\n",
    "# #\n",
    "# #     # Display the frame\n",
    "# #     cv2.imshow(\"Live Detection\", frame)\n",
    "# #\n",
    "# #     # Check if the user pressed the 'q' key to exit\n",
    "# #     if cv2.waitKey(1) & 0xFF == ord('q'):\n",
    "# #         break\n",
    "# #\n",
    "# # # Release the webcam and close the display window\n",
    "# # cap.release()\n",
    "# # cv2.destroyAllWindows()\n",
    "#\n",
    "# import cv2\n",
    "# import numpy as np\n",
    "# import pickle\n",
    "# from sklearn.preprocessing import StandardScaler\n",
    "# from sklearn.decomposition import PCA\n",
    "#\n",
    "# # Load the pickled model\n",
    "# model = pickle.load(open(\"model.pkl\", \"rb\"))\n",
    "#\n",
    "# # Capture video from webcam\n",
    "# cap = cv2.VideoCapture(0)\n",
    "#\n",
    "# while True:\n",
    "#     ret, frame = cap.read()\n",
    "#\n",
    "#     # Preprocessing\n",
    "#     frame = cv2.cvtColor(frame, cv2.COLOR_BGR2GRAY)\n",
    "#     coeffs2 = pywt.dwt2(frame, 'db2')\n",
    "#     LL, (LH, HL, HH) = coeffs2\n",
    "#     g = []\n",
    "#     con = []\n",
    "#     enr = []\n",
    "#     dis = []\n",
    "#     hom = []\n",
    "#     g.append(greycomatrix(np.uint8(LL), [1], [0], levels=256, normed=True, symmetric=True))\n",
    "#     con.append(greycoprops(np.array(g[0]), 'contrast'))\n",
    "#     enr.append(greycoprops(np.array(g[0]), 'energy'))\n",
    "#     dis.append(greycoprops(np.array(g[0]), 'dissimilarity'))\n",
    "#     hom.append(greycoprops(np.array(g[0]), 'homogeneity'))\n",
    "#     con_features = np.reshape(np.array(con).ravel(), (1, len(np.array(con).ravel())))\n",
    "#     enr_features = np.reshape(np.array(enr).ravel(), (1, len(np.array(enr).ravel())))\n",
    "#     dis_features = np.reshape(np.array(dis).ravel(), (1, len(np.array(dis).ravel())))\n",
    "#     hom_features = np.reshape(np.array(hom).ravel(), (1, len(np.array(hom).ravel())))\n",
    "#     features = np.concatenate((con_features, enr_features, dis_features, hom_features), axis=1)\n",
    "#     features = features.reshape(-1, 1)\n",
    "#\n",
    "#     sc = StandardScaler()\n",
    "#     sc.fit(features)\n",
    "#\n",
    "#     pca = PCA(n_components=10)\n",
    "#     features_std_pca = pca.fit_transform(features)\n",
    "#\n",
    "#     # Predict the label using the model\n",
    "#     prediction = model.predict(features_std_pca)\n",
    "#\n",
    "#     # Show the prediction on the frame\n",
    "#     cv2.putText(frame, str(prediction), (10, 30), cv2.FONT_HERSHEY_SIMPLEX, 1, (255, 0, 0), 2)\n",
    "#     cv2.imshow(\"frame\", frame)\n",
    "#\n",
    "#     if cv2.waitKey(1) & 0xFF == ord(\"q\"):\n",
    "#         break\n",
    "#\n",
    "# cap.release()\n",
    "# cv2.destroyAllWindows()\n"
   ],
   "metadata": {
    "collapsed": false,
    "pycharm": {
     "name": "#%%\n"
    }
   }
  },
  {
   "cell_type": "code",
   "execution_count": 45,
   "outputs": [],
   "source": [
    "# from sklearn.linear_model import Perceptron\n",
    "# from keras.models import Sequential\n",
    "# from keras.layers import Dense\n",
    "#\n",
    "# # Create and train the perceptron model\n",
    "# perceptron = Perceptron()\n",
    "# perceptron.fit(X_train, y_train)\n",
    "#\n",
    "# # convert to keras model\n",
    "# model = Sequential()\n",
    "# model.add(Dense(6, input_dim=X_train.shape[1], activation='linear'))\n",
    "# model.compile(optimizer='sgd', loss='mean_squared_error')\n",
    "# model.set_weights([perceptron.coef_.T, perceptron.intercept_])\n",
    "#\n",
    "# #save the model\n",
    "# model.save('perceptron.h5')"
   ],
   "metadata": {
    "collapsed": false,
    "pycharm": {
     "name": "#%%\n"
    }
   }
  }
 ],
 "metadata": {
  "kernelspec": {
   "display_name": "Python 3",
   "language": "python",
   "name": "python3"
  },
  "language_info": {
   "codemirror_mode": {
    "name": "ipython",
    "version": 2
   },
   "file_extension": ".py",
   "mimetype": "text/x-python",
   "name": "python",
   "nbconvert_exporter": "python",
   "pygments_lexer": "ipython2",
   "version": "2.7.6"
  }
 },
 "nbformat": 4,
 "nbformat_minor": 0
}