{
 "cells": [
  {
   "cell_type": "code",
   "execution_count": 8,
   "metadata": {
    "collapsed": true
   },
   "outputs": [
    {
     "name": "stdout",
     "output_type": "stream",
     "text": [
      "Images Renamed Successfully.\n"
     ]
    }
   ],
   "source": [
    "### For renaming the image files in order.\n",
    "# Re-run the code for the necessary classes.\n",
    "\n",
    "import os\n",
    "\n",
    "path = 'Final_Images/5000'\n",
    "i = 1\n",
    "\n",
    "for filename in os.listdir(path):\n",
    "    if filename.endswith('.jpg'):\n",
    "        new_name = \"{}.jpg\".format(i)\n",
    "        os.rename(os.path.join(path, filename), os.path.join(path, new_name))\n",
    "        i += 1\n",
    "\n",
    "print(\"Images Renamed Successfully.\")"
   ]
  }
 ],
 "metadata": {
  "kernelspec": {
   "display_name": "Python 3",
   "language": "python",
   "name": "python3"
  },
  "language_info": {
   "codemirror_mode": {
    "name": "ipython",
    "version": 2
   },
   "file_extension": ".py",
   "mimetype": "text/x-python",
   "name": "python",
   "nbconvert_exporter": "python",
   "pygments_lexer": "ipython2",
   "version": "2.7.6"
  }
 },
 "nbformat": 4,
 "nbformat_minor": 0
}